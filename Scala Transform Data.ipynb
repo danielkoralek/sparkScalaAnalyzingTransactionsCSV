{
  "cells": [
    {
      "cell_type": "markdown",
      "source": [
        "# Spark Scala Notebook working on the Transactions data generated in the earlier step\r\n",
        "\r\n",
        "Using Spark to read the CSV file and infer the Schema."
      ],
      "metadata": {
        "nteract": {
          "transient": {
            "deleting": false
          }
        }
      }
    },
    {
      "cell_type": "code",
      "source": [
        "val csvPath = \"abfs://xx@xxxx.dfs.core.windows.net/generatedData/transactions/transactions.csv\"\n",
        "val dfTransactions = spark.read.format(\"csv\").option(\"header\",\"true\").option(\"inferSchema\",\"true\").load(csvPath)\n",
        "\n",
        "dfTransactions.printSchema"
      ],
      "outputs": [
        {
          "output_type": "display_data",
          "data": {
            "application/vnd.livy.statement-meta+json": {
              "spark_pool": "lab00spark",
              "session_id": "9",
              "statement_id": 7,
              "state": "finished",
              "livy_statement_state": "available",
              "queued_time": "2023-05-27T02:55:50.6562225Z",
              "session_start_time": null,
              "execution_start_time": "2023-05-27T02:55:50.7724849Z",
              "execution_finish_time": "2023-05-27T02:55:56.0724947Z",
              "spark_jobs": null,
              "parent_msg_id": "13957c30-4949-49db-a0ee-f0fe3da03113"
            },
            "text/plain": "StatementMeta(lab00spark, 9, 7, Finished, Available)"
          },
          "metadata": {}
        },
        {
          "output_type": "stream",
          "name": "stdout",
          "text": [
            "root\n |-- transaction_id: string (nullable = true)\n |-- transaction_dt: timestamp (nullable = true)\n |-- name: string (nullable = true)\n |-- statement: string (nullable = true)\n |-- operation: string (nullable = true)\n |-- wallet: string (nullable = true)\n |-- value: double (nullable = true)\n\ncsvPath: String = abfs://lab00fs@datalakelab00.dfs.core.windows.net/generatedData/transactions/transactions.csv\ndfTransactions: org.apache.spark.sql.DataFrame = [transaction_id: string, transaction_dt: timestamp ... 5 more fields]\n"
          ]
        }
      ],
      "execution_count": 13,
      "metadata": {
        "collapsed": false
      }
    },
    {
      "cell_type": "code",
      "source": [
        "import spark.sql\r\n",
        "\r\n",
        "display(\r\n",
        "    dfTransactions\r\n",
        "        .withColumn(\"yearmonth\", date_format($\"transaction_dt\", \"y-MM\"))\r\n",
        "        .groupBy($\"yearmonth\", $\"operation\")\r\n",
        "        .agg(sum($\"value\").as(\"total_value\"), avg($\"value\").as(\"average_value\"))\r\n",
        "        .orderBy($\"yearmonth\")\r\n",
        ")"
      ],
      "outputs": [
        {
          "output_type": "display_data",
          "data": {
            "application/vnd.livy.statement-meta+json": {
              "spark_pool": "lab00spark",
              "session_id": "9",
              "statement_id": 10,
              "state": "finished",
              "livy_statement_state": "available",
              "queued_time": "2023-05-27T02:57:53.8207651Z",
              "session_start_time": null,
              "execution_start_time": "2023-05-27T02:57:53.9524999Z",
              "execution_finish_time": "2023-05-27T02:57:59.2829418Z",
              "spark_jobs": null,
              "parent_msg_id": "eb121f33-f943-4094-af48-2a97e0c32579"
            },
            "text/plain": "StatementMeta(lab00spark, 9, 10, Finished, Available)"
          },
          "metadata": {}
        },
        {
          "output_type": "display_data",
          "data": {
            "application/vnd.synapse.widget-view+json": {
              "widget_id": "d60a99c0-d4f8-4b42-b594-155fd0bf979b",
              "widget_type": "Synapse.DataFrame"
            },
            "text/plain": "SynapseWidget(Synapse.DataFrame, d60a99c0-d4f8-4b42-b594-155fd0bf979b)"
          },
          "metadata": {}
        },
        {
          "output_type": "stream",
          "name": "stdout",
          "text": [
            "\nimport spark.sql\n"
          ]
        }
      ],
      "execution_count": 16,
      "metadata": {
        "jupyter": {
          "source_hidden": false,
          "outputs_hidden": false
        },
        "nteract": {
          "transient": {
            "deleting": false
          }
        },
        "collapsed": false
      }
    },
    {
      "cell_type": "code",
      "source": [
        "display(\r\n",
        "    dfTransactions\r\n",
        "        .filter($\"operation\" === \"SELL\")\r\n",
        "        .groupBy($\"name\")\r\n",
        "        .agg(sum($\"value\").as(\"total_value\"), count($\"transaction_id\").as(\"total_sell_operations\"))\r\n",
        "        .orderBy($\"total_value\".desc)\r\n",
        "        .limit(5)\r\n",
        ")"
      ],
      "outputs": [
        {
          "output_type": "display_data",
          "data": {
            "application/vnd.livy.statement-meta+json": {
              "spark_pool": "lab00spark",
              "session_id": "9",
              "statement_id": 13,
              "state": "finished",
              "livy_statement_state": "available",
              "queued_time": "2023-05-27T03:02:52.5456426Z",
              "session_start_time": null,
              "execution_start_time": "2023-05-27T03:02:52.6851105Z",
              "execution_finish_time": "2023-05-27T03:02:56.6347073Z",
              "spark_jobs": null,
              "parent_msg_id": "405e106e-f0f6-4edf-9632-6b8b54913050"
            },
            "text/plain": "StatementMeta(lab00spark, 9, 13, Finished, Available)"
          },
          "metadata": {}
        },
        {
          "output_type": "display_data",
          "data": {
            "application/vnd.synapse.widget-view+json": {
              "widget_id": "faef473d-9f31-420f-ba0f-2a82151692e1",
              "widget_type": "Synapse.DataFrame"
            },
            "text/plain": "SynapseWidget(Synapse.DataFrame, faef473d-9f31-420f-ba0f-2a82151692e1)"
          },
          "metadata": {}
        },
        {
          "output_type": "stream",
          "name": "stdout",
          "text": [
            "\n"
          ]
        }
      ],
      "execution_count": 19,
      "metadata": {
        "jupyter": {
          "source_hidden": false,
          "outputs_hidden": false
        },
        "nteract": {
          "transient": {
            "deleting": false
          }
        },
        "collapsed": false
      }
    }
  ],
  "metadata": {
    "kernelspec": {
      "name": "synapse_pyspark",
      "language": "Python",
      "display_name": "Synapse PySpark"
    },
    "language_info": {
      "name": "scala"
    },
    "kernel_info": {
      "name": "synapse_pyspark"
    },
    "description": null,
    "save_output": true,
    "synapse_widget": {
      "version": "0.1",
      "state": {
        "d60a99c0-d4f8-4b42-b594-155fd0bf979b": {
          "type": "Synapse.DataFrame",
          "sync_state": {
            "table": {
              "rows": [
                {
                  "0": "2021-01",
                  "1": "LOCK",
                  "2": "1164684.75",
                  "3": "50.16949170794745"
                },
                {
                  "0": "2021-01",
                  "1": "PURCHASE",
                  "2": "1165252.1599999988",
                  "3": "49.6337760361204"
                },
                {
                  "0": "2021-01",
                  "1": "SELL",
                  "2": "1150123.7199999997",
                  "3": "49.88825019519388"
                },
                {
                  "0": "2021-02",
                  "1": "SELL",
                  "2": "1063137.2200000002",
                  "3": "49.95006671678257"
                },
                {
                  "0": "2021-02",
                  "1": "LOCK",
                  "2": "1072223.1800000002",
                  "3": "49.894052117263854"
                },
                {
                  "0": "2021-02",
                  "1": "PURCHASE",
                  "2": "1068622.3500000006",
                  "3": "50.097152032253554"
                },
                {
                  "0": "2021-03",
                  "1": "LOCK",
                  "2": "1183719.5800000005",
                  "3": "50.09817081428815"
                },
                {
                  "0": "2021-03",
                  "1": "SELL",
                  "2": "1173278.0299999982",
                  "3": "49.93097412545741"
                },
                {
                  "0": "2021-03",
                  "1": "PURCHASE",
                  "2": "1182083.92",
                  "3": "50.299303008382616"
                },
                {
                  "0": "2021-04",
                  "1": "LOCK",
                  "2": "1146587.8799999992",
                  "3": "49.77590102018664"
                },
                {
                  "0": "2021-04",
                  "1": "PURCHASE",
                  "2": "1142233.7599999998",
                  "3": "49.84002792564795"
                },
                {
                  "0": "2021-04",
                  "1": "SELL",
                  "2": "1135122.4200000002",
                  "3": "50.00979910124241"
                },
                {
                  "0": "2021-05",
                  "1": "PURCHASE",
                  "2": "1171854.28",
                  "3": "49.92775254569469"
                },
                {
                  "0": "2021-05",
                  "1": "LOCK",
                  "2": "1186199.0700000005",
                  "3": "49.9725774107933"
                },
                {
                  "0": "2021-05",
                  "1": "SELL",
                  "2": "1180700.6499999994",
                  "3": "50.26824974455039"
                },
                {
                  "0": "2021-06",
                  "1": "PURCHASE",
                  "2": "1139365.6599999995",
                  "3": "49.9305692624567"
                },
                {
                  "0": "2021-06",
                  "1": "SELL",
                  "2": "1153141.160000001",
                  "3": "50.18239087862836"
                },
                {
                  "0": "2021-06",
                  "1": "LOCK",
                  "2": "1145876.94",
                  "3": "50.335029211508896"
                },
                {
                  "0": "2021-07",
                  "1": "SELL",
                  "2": "1181822.3300000005",
                  "3": "50.02210827054942"
                },
                {
                  "0": "2021-07",
                  "1": "PURCHASE",
                  "2": "1162714.4799999995",
                  "3": "49.553123082168405"
                },
                {
                  "0": "2021-07",
                  "1": "LOCK",
                  "2": "1174237.1200000003",
                  "3": "49.90383000424991"
                },
                {
                  "0": "2021-08",
                  "1": "LOCK",
                  "2": "1193229.1799999997",
                  "3": "50.03896586429589"
                },
                {
                  "0": "2021-08",
                  "1": "PURCHASE",
                  "2": "1175993.9200000004",
                  "3": "49.83236238823681"
                },
                {
                  "0": "2021-08",
                  "1": "SELL",
                  "2": "1184387.040000001",
                  "3": "50.120055858829545"
                },
                {
                  "0": "2021-09",
                  "1": "PURCHASE",
                  "2": "1139513.3999999997",
                  "3": "49.976465944476104"
                },
                {
                  "0": "2021-09",
                  "1": "SELL",
                  "2": "1154903.7699999998",
                  "3": "50.329183335512255"
                },
                {
                  "0": "2021-09",
                  "1": "LOCK",
                  "2": "1130470.4699999988",
                  "3": "49.83339078686351"
                },
                {
                  "0": "2021-10",
                  "1": "SELL",
                  "2": "1193626.0599999996",
                  "3": "50.02414232429486"
                },
                {
                  "0": "2021-10",
                  "1": "LOCK",
                  "2": "1187686.789999999",
                  "3": "49.82534672987369"
                },
                {
                  "0": "2021-10",
                  "1": "PURCHASE",
                  "2": "1188610.9300000004",
                  "3": "49.914371561752"
                },
                {
                  "0": "2021-11",
                  "1": "PURCHASE",
                  "2": "1129799.9099999997",
                  "3": "49.79944064882971"
                },
                {
                  "0": "2021-11",
                  "1": "LOCK",
                  "2": "1134181.2600000007",
                  "3": "49.74042890974479"
                },
                {
                  "0": "2021-11",
                  "1": "SELL",
                  "2": "1148393.17",
                  "3": "50.1525534981221"
                },
                {
                  "0": "2021-12",
                  "1": "LOCK",
                  "2": "1191122.279999999",
                  "3": "50.45204286500907"
                },
                {
                  "0": "2021-12",
                  "1": "SELL",
                  "2": "1176651.1500000006",
                  "3": "49.79690845994332"
                },
                {
                  "0": "2021-12",
                  "1": "PURCHASE",
                  "2": "1189342.1700000002",
                  "3": "50.159932942516136"
                },
                {
                  "0": "2022-01",
                  "1": "SELL",
                  "2": "1172509.4899999998",
                  "3": "50.0986792855922"
                },
                {
                  "0": "2022-01",
                  "1": "LOCK",
                  "2": "1181391.9700000007",
                  "3": "49.99119710561953"
                },
                {
                  "0": "2022-01",
                  "1": "PURCHASE",
                  "2": "1170403.4800000016",
                  "3": "50.004421088609824"
                },
                {
                  "0": "2022-02",
                  "1": "SELL",
                  "2": "1065109.8399999996",
                  "3": "49.83669474078231"
                },
                {
                  "0": "2022-02",
                  "1": "PURCHASE",
                  "2": "1063916.39",
                  "3": "49.98667496711144"
                },
                {
                  "0": "2022-02",
                  "1": "LOCK",
                  "2": "1075205.4699999995",
                  "3": "49.965401273293345"
                },
                {
                  "0": "2022-03",
                  "1": "SELL",
                  "2": "1178380.1199999996",
                  "3": "49.99279283865766"
                },
                {
                  "0": "2022-03",
                  "1": "PURCHASE",
                  "2": "1177357.0199999993",
                  "3": "50.08111872049"
                },
                {
                  "0": "2022-03",
                  "1": "LOCK",
                  "2": "1170131.9500000004",
                  "3": "50.38459998277646"
                },
                {
                  "0": "2022-04",
                  "1": "LOCK",
                  "2": "1157984.9799999995",
                  "3": "50.09885696980183"
                },
                {
                  "0": "2022-04",
                  "1": "SELL",
                  "2": "1136789.6700000002",
                  "3": "49.88764076008251"
                },
                {
                  "0": "2022-04",
                  "1": "PURCHASE",
                  "2": "1135837.1400000001",
                  "3": "50.01044117647059"
                },
                {
                  "0": "2022-05",
                  "1": "PURCHASE",
                  "2": "1181123.6200000006",
                  "3": "50.372041112248404"
                },
                {
                  "0": "2022-05",
                  "1": "SELL",
                  "2": "1180819.1400000004",
                  "3": "49.850936800776815"
                },
                {
                  "0": "2022-05",
                  "1": "LOCK",
                  "2": "1174675.0499999998",
                  "3": "49.77436652542372"
                },
                {
                  "0": "2022-06",
                  "1": "SELL",
                  "2": "1155279.8500000008",
                  "3": "50.06412939850931"
                },
                {
                  "0": "2022-06",
                  "1": "PURCHASE",
                  "2": "1145731.85",
                  "3": "49.89686656214616"
                },
                {
                  "0": "2022-06",
                  "1": "LOCK",
                  "2": "1137581.75",
                  "3": "49.77822386557563"
                },
                {
                  "0": "2022-07",
                  "1": "LOCK",
                  "2": "1189278.8900000004",
                  "3": "50.361164090620385"
                },
                {
                  "0": "2022-07",
                  "1": "PURCHASE",
                  "2": "1185157.4899999998",
                  "3": "50.12508416511587"
                },
                {
                  "0": "2022-07",
                  "1": "SELL",
                  "2": "1175914.8999999997",
                  "3": "49.91361687677744"
                },
                {
                  "0": "2022-08",
                  "1": "PURCHASE",
                  "2": "1176485.5900000003",
                  "3": "50.30510924872794"
                },
                {
                  "0": "2022-08",
                  "1": "LOCK",
                  "2": "1158449.3400000003",
                  "3": "49.93961891623918"
                },
                {
                  "0": "2022-08",
                  "1": "SELL",
                  "2": "1187942.4600000004",
                  "3": "50.04813195146615"
                },
                {
                  "0": "2022-09",
                  "1": "PURCHASE",
                  "2": "1133029.6199999999",
                  "3": "50.083084471555495"
                },
                {
                  "0": "2022-09",
                  "1": "LOCK",
                  "2": "1153634.4300000004",
                  "3": "49.93439942864565"
                },
                {
                  "0": "2022-09",
                  "1": "SELL",
                  "2": "1151876.5000000002",
                  "3": "50.136082698585426"
                },
                {
                  "0": "2022-10",
                  "1": "LOCK",
                  "2": "1181656.4700000011",
                  "3": "49.672389339610795"
                },
                {
                  "0": "2022-10",
                  "1": "SELL",
                  "2": "1186619.3900000004",
                  "3": "50.100037576525246"
                },
                {
                  "0": "2022-10",
                  "1": "PURCHASE",
                  "2": "1167828.55",
                  "3": "49.95416844896912"
                },
                {
                  "0": "2022-11",
                  "1": "PURCHASE",
                  "2": "1131725.0499999998",
                  "3": "49.75052971689818"
                },
                {
                  "0": "2022-11",
                  "1": "SELL",
                  "2": "1146573.7300000002",
                  "3": "49.855366988433786"
                },
                {
                  "0": "2022-11",
                  "1": "LOCK",
                  "2": "1136721.56",
                  "3": "49.81687965641161"
                },
                {
                  "0": "2022-12",
                  "1": "PURCHASE",
                  "2": "1173130.03",
                  "3": "50.071707285842336"
                },
                {
                  "0": "2022-12",
                  "1": "SELL",
                  "2": "1180519.5299999998",
                  "3": "49.85302069256756"
                },
                {
                  "0": "2022-12",
                  "1": "LOCK",
                  "2": "1182939.2800000005",
                  "3": "49.89199831294815"
                },
                {
                  "0": "2023-01",
                  "1": "LOCK",
                  "2": "1188970.4700000004",
                  "3": "50.28847735059004"
                },
                {
                  "0": "2023-01",
                  "1": "SELL",
                  "2": "1175807.2299999995",
                  "3": "49.73593460513513"
                },
                {
                  "0": "2023-01",
                  "1": "PURCHASE",
                  "2": "1198855.4799999997",
                  "3": "49.83602760226138"
                },
                {
                  "0": "2023-02",
                  "1": "SELL",
                  "2": "1070929.8600000006",
                  "3": "50.18415463917528"
                },
                {
                  "0": "2023-02",
                  "1": "PURCHASE",
                  "2": "1060575.0499999996",
                  "3": "50.1122212247212"
                },
                {
                  "0": "2023-02",
                  "1": "LOCK",
                  "2": "1071278.1099999996",
                  "3": "50.21694604603195"
                },
                {
                  "0": "2023-03",
                  "1": "PURCHASE",
                  "2": "1187395.4799999993",
                  "3": "50.30697284243525"
                },
                {
                  "0": "2023-03",
                  "1": "SELL",
                  "2": "1184651.7200000007",
                  "3": "50.175845828038995"
                },
                {
                  "0": "2023-03",
                  "1": "LOCK",
                  "2": "1185509.1399999992",
                  "3": "50.1569275681164"
                },
                {
                  "0": "2023-04",
                  "1": "LOCK",
                  "2": "1139291.9799999997",
                  "3": "49.82035945425922"
                },
                {
                  "0": "2023-04",
                  "1": "PURCHASE",
                  "2": "1148755.6300000004",
                  "3": "50.17495654072943"
                },
                {
                  "0": "2023-04",
                  "1": "SELL",
                  "2": "1142420.690000001",
                  "3": "50.150161984196714"
                },
                {
                  "0": "2023-05",
                  "1": "PURCHASE",
                  "2": "980147.6699999999",
                  "3": "49.80678235682707"
                },
                {
                  "0": "2023-05",
                  "1": "SELL",
                  "2": "980366.5799999998",
                  "3": "50.10562097516099"
                },
                {
                  "0": "2023-05",
                  "1": "LOCK",
                  "2": "979844.4400000002",
                  "3": "50.022689401674505"
                }
              ],
              "schema": [
                {
                  "key": "0",
                  "name": "yearmonth",
                  "type": "string"
                },
                {
                  "key": "1",
                  "name": "operation",
                  "type": "string"
                },
                {
                  "key": "2",
                  "name": "total_value",
                  "type": "double"
                },
                {
                  "key": "3",
                  "name": "average_value",
                  "type": "double"
                }
              ],
              "truncated": false
            },
            "isSummary": false,
            "language": "scala"
          },
          "persist_state": {
            "view": {
              "type": "details",
              "tableOptions": {},
              "chartOptions": {
                "chartType": "area",
                "aggregationType": "sum",
                "categoryFieldKeys": [
                  "0"
                ],
                "seriesFieldKeys": [
                  "2"
                ],
                "isStacked": true,
                "pivotFieldKey": "1"
              }
            }
          }
        },
        "faef473d-9f31-420f-ba0f-2a82151692e1": {
          "type": "Synapse.DataFrame",
          "sync_state": {
            "table": {
              "rows": [
                {
                  "0": "Henry of Olsen",
                  "1": "66254.92000000001",
                  "2": "1278"
                },
                {
                  "0": "Billy de Halen",
                  "1": "66193.29000000001",
                  "2": "1281"
                },
                {
                  "0": "Denny O' Petersen",
                  "1": "66003.34999999999",
                  "2": "1287"
                },
                {
                  "0": "Anderson Saint Johnson",
                  "1": "65542.72000000002",
                  "2": "1286"
                },
                {
                  "0": "Mary  Spectoulos",
                  "1": "65182.13999999999",
                  "2": "1241"
                }
              ],
              "schema": [
                {
                  "key": "0",
                  "name": "name",
                  "type": "string"
                },
                {
                  "key": "1",
                  "name": "total_value",
                  "type": "double"
                },
                {
                  "key": "2",
                  "name": "total_sell_operations",
                  "type": "bigint"
                }
              ],
              "truncated": false
            },
            "isSummary": false,
            "language": "scala"
          },
          "persist_state": {
            "view": {
              "type": "details",
              "tableOptions": {},
              "chartOptions": {
                "chartType": "bar",
                "aggregationType": "sum",
                "categoryFieldKeys": [
                  "0"
                ],
                "seriesFieldKeys": [
                  "1"
                ],
                "isStacked": false
              }
            }
          }
        }
      }
    }
  },
  "nbformat": 4,
  "nbformat_minor": 2
}